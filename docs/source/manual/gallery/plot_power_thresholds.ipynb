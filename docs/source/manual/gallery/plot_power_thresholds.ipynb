{
 "cells": [
  {
   "cell_type": "markdown",
   "id": "e7d80e29-3aec-4498-a73f-e3eb6a77cd7d",
   "metadata": {},
   "source": [
    "# Plot power thresholds"
   ]
  },
  {
   "cell_type": "markdown",
   "id": "515a69dc-2104-4860-97f9-8859a7814185",
   "metadata": {},
   "source": []
  },
  {
   "cell_type": "markdown",
   "id": "a1274fce-7192-46c8-96a2-71e1f59d54cb",
   "metadata": {},
   "source": [
    "Generic libraries:"
   ]
  },
  {
   "cell_type": "code",
   "execution_count": 1,
   "id": "e943830e-0048-4fd4-94d1-dccfab7e3cff",
   "metadata": {},
   "outputs": [],
   "source": [
    "from functools import partial\n",
    "from pathlib import Path\n",
    "import tomllib\n",
    "\n",
    "import numpy as np"
   ]
  },
  {
   "cell_type": "markdown",
   "id": "73a9d252-f543-481e-af76-9e57a196cfd9",
   "metadata": {},
   "source": [
    "Other libraries required for this notebook:"
   ]
  },
  {
   "cell_type": "code",
   "execution_count": 2,
   "id": "cb62186d-14d5-43a0-b1fd-ba37807b0122",
   "metadata": {},
   "outputs": [],
   "source": [
    "from multipac_testbench.src.test_campaign import TestCampaign\n",
    "import multipac_testbench.src.instruments as ins\n",
    "from multipac_testbench.src.util.post_treaters import running_mean\n",
    "from multipac_testbench.src.util.multipactor_detectors import \\\n",
    "    quantity_is_above_threshold"
   ]
  },
  {
   "cell_type": "markdown",
   "id": "0b00c015-1b57-462e-8b7d-fc4e70339157",
   "metadata": {},
   "source": [
    "Define the project path, load the configuration."
   ]
  },
  {
   "cell_type": "code",
   "execution_count": 3,
   "id": "81ac679b-0590-426b-92ba-d02d03570ee2",
   "metadata": {},
   "outputs": [],
   "source": [
    "project = Path(\"../data/campaign\")\n",
    "config_path = Path(project, \"testbench_configuration.toml\")\n",
    "\n",
    "with open(config_path, \"rb\") as f:\n",
    "    config = tomllib.load(f)"
   ]
  },
  {
   "cell_type": "code",
   "execution_count": 4,
   "id": "7ff799e8-eebe-49e9-bced-90a777724efd",
   "metadata": {},
   "outputs": [
    {
     "name": "stdout",
     "output_type": "stream",
     "text": [
      "\u001b[0;37m[INFO    ] [factory.py          ]\u001b[0m 1 set of global diagnostics defined:\n",
      "\tGlobalDiagnostic global, with instruments: ['ForwardPower (NI9205_Power1)', 'ReflectedPower (NI9205_Power2)', 'ReflectionCoefficient (Reflection_coefficient)', 'SWR (SWR)']\n",
      "\u001b[0;37m[INFO    ] [factory.py          ]\u001b[0m 10 pick-ups created:\n",
      "\u001b[0;37m[INFO    ] [factory.py          ]\u001b[0m \tPick-Up E1 at z = 0.000m, with instruments: ['CurrentProbe (NI9205_MP1l)', 'FieldProbe (NI9205_E1)']\n",
      "\u001b[0;37m[INFO    ] [factory.py          ]\u001b[0m \tPick-Up V1 at z = 0.130m, with instruments: ['Penning (NI9205_Penning1)']\n",
      "\u001b[0;37m[INFO    ] [factory.py          ]\u001b[0m \tPick-Up E2 at z = 0.260m, with instruments: ['CurrentProbe (NI9205_MP2l)', 'FieldProbe (NI9205_E2)']\n",
      "\u001b[0;37m[INFO    ] [factory.py          ]\u001b[0m \tPick-Up E3 at z = 0.390m, with instruments: ['CurrentProbe (NI9205_MP3l)', 'FieldProbe (NI9205_E3)']\n",
      "\u001b[0;37m[INFO    ] [factory.py          ]\u001b[0m \tPick-Up V2 at z = 0.611m, with instruments: ['Penning (NI9205_Penning)']\n",
      "\u001b[0;37m[INFO    ] [factory.py          ]\u001b[0m \tPick-Up E4 at z = 0.611m, with instruments: ['CurrentProbe (NI9205_MP4l)', 'FieldProbe (NI9205_E4)']\n",
      "\u001b[0;37m[INFO    ] [factory.py          ]\u001b[0m \tPick-Up E5 at z = 0.832m, with instruments: ['CurrentProbe (NI9205_MP5l)', 'FieldProbe (NI9205_E5)']\n",
      "\u001b[0;37m[INFO    ] [factory.py          ]\u001b[0m \tPick-Up E6 at z = 0.962m, with instruments: ['CurrentProbe (NI9205_MP6l)', 'FieldProbe (NI9205_E6)']\n",
      "\u001b[0;37m[INFO    ] [factory.py          ]\u001b[0m \tPick-Up V3 at z = 1.092m, with instruments: ['Penning (NI9205_Penning2)']\n",
      "\u001b[0;37m[INFO    ] [factory.py          ]\u001b[0m \tPick-Up E7 at z = 1.222m, with instruments: ['CurrentProbe (NI9205_MP7l)', 'FieldProbe (NI9205_E7)']\n"
     ]
    }
   ],
   "source": [
    "frequencies = (120., 120., 120., 120., 120.)\n",
    "swrs = (1., 2., 4., 10., np.inf)\n",
    "info = ('', '', '', '', 'short-circuit')\n",
    "filepaths = (\n",
    "    Path(project, \"120MHz_travelling.csv\"),\n",
    "    Path(project, \"120MHz_SWR2.csv\"),\n",
    "    Path(project, \"120MHz_SWR4.csv\"),\n",
    "    Path(project, \"120MHz_SWR10.csv\"),\n",
    "    Path(project, \"120MHz_short-circuit.csv\")\n",
    ")\n",
    "test_campaign = TestCampaign.from_filepaths(filepaths,\n",
    "                                            frequencies,\n",
    "                                            swrs,\n",
    "                                            config,\n",
    "                                            info=info,\n",
    "                                            sep='\\t')"
   ]
  },
  {
   "cell_type": "markdown",
   "id": "c5cafea5-a847-4aa8-bf6f-695edde2c3d0",
   "metadata": {},
   "source": [
    "Prepare visualisation"
   ]
  },
  {
   "cell_type": "code",
   "execution_count": 5,
   "id": "2d948a24-f23d-42e6-adc3-3650ea3fb308",
   "metadata": {},
   "outputs": [],
   "source": [
    "ignored_pick_ups = ('E1', 'V1', 'V2', 'V3')\n",
    "exclude = \"NI9205_E1\",\n",
    "to_plot = (ins.CurrentProbe, ins.Power)\n",
    "figsize = (20, 9)"
   ]
  },
  {
   "cell_type": "markdown",
   "id": "4fa88cc5-4086-4556-9f37-b9c401e07b6a",
   "metadata": {},
   "source": [
    "Smooth the current data"
   ]
  },
  {
   "cell_type": "code",
   "execution_count": 6,
   "id": "01d6feda-c664-4a91-8d80-ce3deb852b23",
   "metadata": {
    "editable": true,
    "slideshow": {
     "slide_type": ""
    },
    "tags": []
   },
   "outputs": [],
   "source": [
    "current_smoother = partial(\n",
    "    running_mean,\n",
    "    n_mean=10,\n",
    "    mode='same',\n",
    ")\n",
    "\n",
    "test_campaign.add_post_treater(\n",
    "    current_smoother,\n",
    "    ins.CurrentProbe,\n",
    ")"
   ]
  },
  {
   "cell_type": "markdown",
   "id": "98ea3c9d-e301-4173-a945-da4a969f283d",
   "metadata": {
    "editable": true,
    "slideshow": {
     "slide_type": ""
    },
    "tags": []
   },
   "source": [
    "Set a multipactor detection criterion:"
   ]
  },
  {
   "cell_type": "code",
   "execution_count": 7,
   "id": "482a61ea-5baf-4511-bd45-848592324201",
   "metadata": {},
   "outputs": [
    {
     "name": "stdout",
     "output_type": "stream",
     "text": [
      "\u001b[1;33m[WARNING ] [filtering.py        ]\u001b[0m There was 31 'True' points in the last 40 points of the power growth array. Setting it to False.\n",
      "\u001b[1;33m[WARNING ] [multipactor_band.py ]\u001b[0m I guess there was two MP bands for this power cycle!! To investigate. Only keeping second one...  120.0MHz, SWR 2.0 instrument_name = 'NI9205_MP7l'\n",
      "\u001b[1;33m[WARNING ] [filtering.py        ]\u001b[0m There was 22 'True' points in the last 40 points of the power growth array. Setting it to False.\n",
      "\u001b[1;33m[WARNING ] [multipactor_band.py ]\u001b[0m I guess there was two MP bands for this power cycle!! To investigate. Only keeping second one...  120.0MHz, SWR inf, short-circuit instrument_name = 'NI9205_MP5l'\n",
      "\u001b[1;33m[WARNING ] [multipactor_band.py ]\u001b[0m I guess there was two MP bands for this power cycle!! To investigate. Only keeping second one...  120.0MHz, SWR inf, short-circuit instrument_name = 'NI9205_MP7l'\n"
     ]
    }
   ],
   "source": [
    "current_multipactor_criterions = {'threshold': 12.,\n",
    "                                  'consecutive_criterion': 10,\n",
    "                                  'minimum_number_of_points': 7}\n",
    "current_multipac_detector = partial(quantity_is_above_threshold,\n",
    "                                    **current_multipactor_criterions)\n",
    "current_multipactor_bands = test_campaign.detect_multipactor(\n",
    "    current_multipac_detector,\n",
    "    ins.CurrentProbe,\n",
    ")"
   ]
  },
  {
   "cell_type": "markdown",
   "id": "500fdecc-0a12-45c9-ac31-b22c4ecc9d6c",
   "metadata": {},
   "source": [
    "Check that detected multipactor zones are consistent:"
   ]
  },
  {
   "cell_type": "code",
   "execution_count": 8,
   "id": "3b6360c2-c8ff-43c7-b5a0-c7747e8d1316",
   "metadata": {
    "editable": true,
    "nbsphinx-toctree": {},
    "slideshow": {
     "slide_type": ""
    },
    "tags": []
   },
   "outputs": [
    {
     "name": "stdout",
     "output_type": "stream",
     "text": [
      "\u001b[1;33m[WARNING ] [multipactor_band.py ]\u001b[0m I guess there was two MP bands for this power cycle!! To investigate. Only keeping second one...  instrument_name = '11 instruments (relaxed)'\n",
      "\u001b[1;33m[WARNING ] [multipactor_band.py ]\u001b[0m I guess there was two MP bands for this power cycle!! To investigate. Only keeping second one...  instrument_name = '11 instruments (relaxed)'\n"
     ]
    },
    {
     "ename": "AssertionError",
     "evalue": "We are exiting a multipacting zone but I did not detect when it started. Check what happened around index 261.  instrument_name = '11 instruments (relaxed)'",
     "output_type": "error",
     "traceback": [
      "\u001b[0;31m---------------------------------------------------------------------------\u001b[0m",
      "\u001b[0;31mAssertionError\u001b[0m                            Traceback (most recent call last)",
      "Cell \u001b[0;32mIn[8], line 1\u001b[0m\n\u001b[0;32m----> 1\u001b[0m axe \u001b[38;5;241m=\u001b[39m \u001b[43mtest_campaign\u001b[49m\u001b[38;5;241;43m.\u001b[39;49m\u001b[43mcheck_somersalo_scaling_law\u001b[49m\u001b[43m(\u001b[49m\n\u001b[1;32m      2\u001b[0m \u001b[43m    \u001b[49m\u001b[43mcurrent_multipactor_bands\u001b[49m\u001b[43m,\u001b[49m\n\u001b[1;32m      3\u001b[0m \u001b[43m    \u001b[49m\u001b[43mmeasurement_points_to_exclude\u001b[49m\u001b[38;5;241;43m=\u001b[39;49m\u001b[43mignored_pick_ups\u001b[49m\u001b[43m,\u001b[49m\n\u001b[1;32m      4\u001b[0m \u001b[43m    \u001b[49m\u001b[43mfigsize\u001b[49m\u001b[38;5;241;43m=\u001b[39;49m\u001b[43mfigsize\u001b[49m\u001b[43m,\u001b[49m\n\u001b[1;32m      5\u001b[0m \u001b[43m)\u001b[49m\n",
      "File \u001b[0;32m~/Documents/Simulation/python/multipac_testbench/src/test_campaign.py:380\u001b[0m, in \u001b[0;36mTestCampaign.check_somersalo_scaling_law\u001b[0;34m(self, multipactor_bands, show_fit, remove_last_point_for_fit, use_theoretical_r, full_output, png_path, **fig_kw)\u001b[0m\n\u001b[1;32m    377\u001b[0m     \u001b[38;5;28;01mraise\u001b[39;00m \u001b[38;5;167;01mNotImplementedError\u001b[39;00m(\u001b[38;5;124m\"\u001b[39m\u001b[38;5;124mPlot over several freqs to implement\u001b[39m\u001b[38;5;124m\"\u001b[39m)\n\u001b[1;32m    379\u001b[0m zipper \u001b[38;5;241m=\u001b[39m \u001b[38;5;28mzip\u001b[39m(\u001b[38;5;28mself\u001b[39m, multipactor_bands, strict\u001b[38;5;241m=\u001b[39m\u001b[38;5;28;01mTrue\u001b[39;00m)\n\u001b[0;32m--> 380\u001b[0m data_for_somersalo \u001b[38;5;241m=\u001b[39m \u001b[43m[\u001b[49m\n\u001b[1;32m    381\u001b[0m \u001b[43m    \u001b[49m\u001b[43mtest\u001b[49m\u001b[38;5;241;43m.\u001b[39;49m\u001b[43mdata_for_somersalo_scaling_law\u001b[49m\u001b[43m(\u001b[49m\u001b[43mband\u001b[49m\u001b[43m,\u001b[49m\u001b[43m \u001b[49m\u001b[43muse_theoretical_r\u001b[49m\u001b[43m)\u001b[49m\n\u001b[1;32m    382\u001b[0m \u001b[43m    \u001b[49m\u001b[38;5;28;43;01mfor\u001b[39;49;00m\u001b[43m \u001b[49m\u001b[43m(\u001b[49m\u001b[43mtest\u001b[49m\u001b[43m,\u001b[49m\u001b[43m \u001b[49m\u001b[43mband\u001b[49m\u001b[43m)\u001b[49m\u001b[43m \u001b[49m\u001b[38;5;129;43;01min\u001b[39;49;00m\u001b[43m \u001b[49m\u001b[43mzipper\u001b[49m\u001b[43m]\u001b[49m\n\u001b[1;32m    383\u001b[0m df_for_somersalo \u001b[38;5;241m=\u001b[39m pd\u001b[38;5;241m.\u001b[39mconcat(data_for_somersalo)\u001b[38;5;241m.\u001b[39mfilter(like\u001b[38;5;241m=\u001b[39m\u001b[38;5;124m'\u001b[39m\u001b[38;5;124mLower\u001b[39m\u001b[38;5;124m'\u001b[39m)\n\u001b[1;32m    384\u001b[0m x_col \u001b[38;5;241m=\u001b[39m df_for_somersalo\u001b[38;5;241m.\u001b[39mfilter(like\u001b[38;5;241m=\u001b[39m\u001b[38;5;124m'\u001b[39m\u001b[38;5;124mReflectionCoefficient\u001b[39m\u001b[38;5;124m'\u001b[39m)\u001b[38;5;241m.\u001b[39mcolumns\n",
      "File \u001b[0;32m~/Documents/Simulation/python/multipac_testbench/src/test_campaign.py:381\u001b[0m, in \u001b[0;36m<listcomp>\u001b[0;34m(.0)\u001b[0m\n\u001b[1;32m    377\u001b[0m     \u001b[38;5;28;01mraise\u001b[39;00m \u001b[38;5;167;01mNotImplementedError\u001b[39;00m(\u001b[38;5;124m\"\u001b[39m\u001b[38;5;124mPlot over several freqs to implement\u001b[39m\u001b[38;5;124m\"\u001b[39m)\n\u001b[1;32m    379\u001b[0m zipper \u001b[38;5;241m=\u001b[39m \u001b[38;5;28mzip\u001b[39m(\u001b[38;5;28mself\u001b[39m, multipactor_bands, strict\u001b[38;5;241m=\u001b[39m\u001b[38;5;28;01mTrue\u001b[39;00m)\n\u001b[1;32m    380\u001b[0m data_for_somersalo \u001b[38;5;241m=\u001b[39m [\n\u001b[0;32m--> 381\u001b[0m     \u001b[43mtest\u001b[49m\u001b[38;5;241;43m.\u001b[39;49m\u001b[43mdata_for_somersalo_scaling_law\u001b[49m\u001b[43m(\u001b[49m\u001b[43mband\u001b[49m\u001b[43m,\u001b[49m\u001b[43m \u001b[49m\u001b[43muse_theoretical_r\u001b[49m\u001b[43m)\u001b[49m\n\u001b[1;32m    382\u001b[0m     \u001b[38;5;28;01mfor\u001b[39;00m (test, band) \u001b[38;5;129;01min\u001b[39;00m zipper]\n\u001b[1;32m    383\u001b[0m df_for_somersalo \u001b[38;5;241m=\u001b[39m pd\u001b[38;5;241m.\u001b[39mconcat(data_for_somersalo)\u001b[38;5;241m.\u001b[39mfilter(like\u001b[38;5;241m=\u001b[39m\u001b[38;5;124m'\u001b[39m\u001b[38;5;124mLower\u001b[39m\u001b[38;5;124m'\u001b[39m)\n\u001b[1;32m    384\u001b[0m x_col \u001b[38;5;241m=\u001b[39m df_for_somersalo\u001b[38;5;241m.\u001b[39mfilter(like\u001b[38;5;241m=\u001b[39m\u001b[38;5;124m'\u001b[39m\u001b[38;5;124mReflectionCoefficient\u001b[39m\u001b[38;5;124m'\u001b[39m)\u001b[38;5;241m.\u001b[39mcolumns\n",
      "File \u001b[0;32m~/Documents/Simulation/python/multipac_testbench/src/multipactor_test.py:1214\u001b[0m, in \u001b[0;36mMultipactorTest.data_for_somersalo_scaling_law\u001b[0;34m(self, multipactor_bands, use_theoretical_r)\u001b[0m\n\u001b[1;32m   1207\u001b[0m \u001b[38;5;250m\u001b[39m\u001b[38;5;124;03m\"\"\"Get the data necessary to plot the Somersalo scaling law.\u001b[39;00m\n\u001b[1;32m   1208\u001b[0m \n\u001b[1;32m   1209\u001b[0m \u001b[38;5;124;03m.. todo::\u001b[39;00m\n\u001b[1;32m   1210\u001b[0m \u001b[38;5;124;03m    Proper docstring.\u001b[39;00m\n\u001b[1;32m   1211\u001b[0m \n\u001b[1;32m   1212\u001b[0m \u001b[38;5;124;03m\"\"\"\u001b[39;00m\n\u001b[1;32m   1213\u001b[0m \u001b[38;5;28;01mif\u001b[39;00m \u001b[38;5;28misinstance\u001b[39m(multipactor_bands, TestMultipactorBands):\n\u001b[0;32m-> 1214\u001b[0m     multipactor_bands \u001b[38;5;241m=\u001b[39m \u001b[43mmultipactor_bands\u001b[49m\u001b[38;5;241;43m.\u001b[39;49m\u001b[43mmerge\u001b[49m\u001b[43m(\u001b[49m\u001b[38;5;124;43m'\u001b[39;49m\u001b[38;5;124;43mrelaxed\u001b[39;49m\u001b[38;5;124;43m'\u001b[39;49m\u001b[43m)\u001b[49m\n\u001b[1;32m   1216\u001b[0m instruments \u001b[38;5;241m=\u001b[39m ForwardPower, ReflectionCoefficient\n\u001b[1;32m   1217\u001b[0m df_somersalo \u001b[38;5;241m=\u001b[39m \u001b[38;5;28mself\u001b[39m\u001b[38;5;241m.\u001b[39mat_last_threshold(instruments, multipactor_bands)\n",
      "File \u001b[0;32m~/Documents/Simulation/python/multipac_testbench/src/multipactor_band/test_multipactor_bands.py:107\u001b[0m, in \u001b[0;36mTestMultipactorBands.merge\u001b[0;34m(self, union, name, filter_out_none)\u001b[0m\n\u001b[1;32m    104\u001b[0m \u001b[38;5;28;01melse\u001b[39;00m:\n\u001b[1;32m    105\u001b[0m     position \u001b[38;5;241m=\u001b[39m np\u001b[38;5;241m.\u001b[39mNaN\n\u001b[0;32m--> 107\u001b[0m instrument_multipactor_bands \u001b[38;5;241m=\u001b[39m \u001b[43mInstrumentMultipactorBands\u001b[49m\u001b[43m(\u001b[49m\n\u001b[1;32m    108\u001b[0m \u001b[43m    \u001b[49m\u001b[43mmultipactor\u001b[49m\u001b[43m,\u001b[49m\n\u001b[1;32m    109\u001b[0m \u001b[43m    \u001b[49m\u001b[38;5;28;43mself\u001b[39;49m\u001b[38;5;241;43m.\u001b[39;49m\u001b[43mpower_is_growing\u001b[49m\u001b[43m,\u001b[49m\n\u001b[1;32m    110\u001b[0m \u001b[43m    \u001b[49m\u001b[43mname\u001b[49m\u001b[43m,\u001b[49m\n\u001b[1;32m    111\u001b[0m \u001b[43m    \u001b[49m\u001b[43mname\u001b[49m\u001b[43m,\u001b[49m\n\u001b[1;32m    112\u001b[0m \u001b[43m    \u001b[49m\u001b[43mposition\u001b[49m\u001b[43m,\u001b[49m\n\u001b[1;32m    113\u001b[0m \u001b[43m\u001b[49m\u001b[43m)\u001b[49m\n\u001b[1;32m    114\u001b[0m \u001b[38;5;28;01mreturn\u001b[39;00m instrument_multipactor_bands\n",
      "File \u001b[0;32m~/Documents/Simulation/python/multipac_testbench/src/multipactor_band/instrument_multipactor_bands.py:45\u001b[0m, in \u001b[0;36mInstrumentMultipactorBands.__init__\u001b[0;34m(self, multipactor, power_is_growing, instrument_name, measurement_point_name, position, info)\u001b[0m\n\u001b[1;32m     15\u001b[0m \u001b[38;5;28;01mdef\u001b[39;00m \u001b[38;5;21m__init__\u001b[39m(\u001b[38;5;28mself\u001b[39m,\n\u001b[1;32m     16\u001b[0m              multipactor: np\u001b[38;5;241m.\u001b[39mndarray[np\u001b[38;5;241m.\u001b[39mbool_],\n\u001b[1;32m     17\u001b[0m              power_is_growing: np\u001b[38;5;241m.\u001b[39mndarray[np\u001b[38;5;241m.\u001b[39mbool_],\n\u001b[0;32m   (...)\u001b[0m\n\u001b[1;32m     21\u001b[0m              info: \u001b[38;5;28mstr\u001b[39m \u001b[38;5;241m=\u001b[39m \u001b[38;5;124m'\u001b[39m\u001b[38;5;124m'\u001b[39m\n\u001b[1;32m     22\u001b[0m              ) \u001b[38;5;241m-\u001b[39m\u001b[38;5;241m>\u001b[39m \u001b[38;5;28;01mNone\u001b[39;00m:\n\u001b[1;32m     23\u001b[0m \u001b[38;5;250m    \u001b[39m\u001b[38;5;124;03m\"\"\"Create the object.\u001b[39;00m\n\u001b[1;32m     24\u001b[0m \n\u001b[1;32m     25\u001b[0m \u001b[38;5;124;03m    Parameters\u001b[39;00m\n\u001b[0;32m   (...)\u001b[0m\n\u001b[1;32m     43\u001b[0m \n\u001b[1;32m     44\u001b[0m \u001b[38;5;124;03m    \"\"\"\u001b[39;00m\n\u001b[0;32m---> 45\u001b[0m     list_of_multipactor_band \u001b[38;5;241m=\u001b[39m \u001b[43mmultipactor_to_list_of_mp_band\u001b[49m\u001b[43m(\u001b[49m\n\u001b[1;32m     46\u001b[0m \u001b[43m        \u001b[49m\u001b[43mmultipactor\u001b[49m\u001b[43m,\u001b[49m\n\u001b[1;32m     47\u001b[0m \u001b[43m        \u001b[49m\u001b[43mpower_is_growing\u001b[49m\u001b[43m,\u001b[49m\n\u001b[1;32m     48\u001b[0m \u001b[43m        \u001b[49m\u001b[43minfo\u001b[49m\u001b[38;5;241;43m=\u001b[39;49m\u001b[43minfo\u001b[49m\u001b[43m \u001b[49m\u001b[38;5;241;43m+\u001b[39;49m\u001b[43m \u001b[49m\u001b[38;5;124;43mf\u001b[39;49m\u001b[38;5;124;43m\"\u001b[39;49m\u001b[38;5;124;43m \u001b[39;49m\u001b[38;5;132;43;01m{\u001b[39;49;00m\u001b[43minstrument_name\u001b[49m\u001b[38;5;250;43m \u001b[39;49m\u001b[38;5;132;43;01m= }\u001b[39;49;00m\u001b[38;5;124;43m\"\u001b[39;49m\u001b[43m,\u001b[49m\n\u001b[1;32m     49\u001b[0m \u001b[43m    \u001b[49m\u001b[43m)\u001b[49m\n\u001b[1;32m     50\u001b[0m     \u001b[38;5;28msuper\u001b[39m()\u001b[38;5;241m.\u001b[39m\u001b[38;5;21m__init__\u001b[39m(list_of_multipactor_band)\n\u001b[1;32m     51\u001b[0m     \u001b[38;5;28mself\u001b[39m\u001b[38;5;241m.\u001b[39mmultipactor \u001b[38;5;241m=\u001b[39m multipactor\n",
      "File \u001b[0;32m~/Documents/Simulation/python/multipac_testbench/src/multipactor_band/multipactor_band.py:103\u001b[0m, in \u001b[0;36mmultipactor_to_list_of_mp_band\u001b[0;34m(multipactor, power_is_growing, info)\u001b[0m\n\u001b[1;32m    100\u001b[0m     \u001b[38;5;28;01mcontinue\u001b[39;00m\n\u001b[1;32m    102\u001b[0m \u001b[38;5;66;03m# exit of a mp zone\u001b[39;00m\n\u001b[0;32m--> 103\u001b[0m \u001b[38;5;28;01massert\u001b[39;00m first_index \u001b[38;5;129;01mis\u001b[39;00m \u001b[38;5;129;01mnot\u001b[39;00m \u001b[38;5;28;01mNone\u001b[39;00m, (\u001b[38;5;124m\"\u001b[39m\u001b[38;5;124mWe are exiting a multipacting zone \u001b[39m\u001b[38;5;124m\"\u001b[39m\n\u001b[1;32m    104\u001b[0m                                  \u001b[38;5;124m\"\u001b[39m\u001b[38;5;124mbut I did not detect when it started\u001b[39m\u001b[38;5;124m\"\u001b[39m\n\u001b[1;32m    105\u001b[0m                                  \u001b[38;5;124m\"\u001b[39m\u001b[38;5;124m. Check what happened around index \u001b[39m\u001b[38;5;124m\"\u001b[39m\n\u001b[1;32m    106\u001b[0m                                  \u001b[38;5;124mf\u001b[39m\u001b[38;5;124m\"\u001b[39m\u001b[38;5;132;01m{\u001b[39;00mi\u001b[38;5;132;01m}\u001b[39;00m\u001b[38;5;124m. \u001b[39m\u001b[38;5;132;01m{\u001b[39;00minfo\u001b[38;5;132;01m}\u001b[39;00m\u001b[38;5;124m\"\u001b[39m)\n\u001b[1;32m    107\u001b[0m last_index \u001b[38;5;241m=\u001b[39m i\n\u001b[1;32m    108\u001b[0m reached_second_threshold \u001b[38;5;241m=\u001b[39m \u001b[38;5;28;01mTrue\u001b[39;00m\n",
      "\u001b[0;31mAssertionError\u001b[0m: We are exiting a multipacting zone but I did not detect when it started. Check what happened around index 261.  instrument_name = '11 instruments (relaxed)'"
     ]
    }
   ],
   "source": [
    "axe = test_campaign.check_somersalo_scaling_law(\n",
    "    current_multipactor_bands,\n",
    "    measurement_points_to_exclude=ignored_pick_ups,\n",
    "    figsize=figsize,\n",
    ")"
   ]
  },
  {
   "cell_type": "code",
   "execution_count": null,
   "id": "516b2b96-d48f-4ff2-b5c6-cf19ea28caf2",
   "metadata": {},
   "outputs": [],
   "source": []
  }
 ],
 "metadata": {
  "kernelspec": {
   "display_name": "Python 3 (ipykernel)",
   "language": "python",
   "name": "python3"
  },
  "language_info": {
   "codemirror_mode": {
    "name": "ipython",
    "version": 3
   },
   "file_extension": ".py",
   "mimetype": "text/x-python",
   "name": "python",
   "nbconvert_exporter": "python",
   "pygments_lexer": "ipython3",
   "version": "3.11.5"
  }
 },
 "nbformat": 4,
 "nbformat_minor": 5
}

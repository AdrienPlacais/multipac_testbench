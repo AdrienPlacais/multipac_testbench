{
 "cells": [
  {
   "cell_type": "markdown",
   "id": "e7d80e29-3aec-4498-a73f-e3eb6a77cd7d",
   "metadata": {},
   "source": [
    "# Reconstruct the voltage from the field probes"
   ]
  },
  {
   "cell_type": "markdown",
   "id": "a1274fce-7192-46c8-96a2-71e1f59d54cb",
   "metadata": {},
   "source": [
    "Generic libraries:"
   ]
  },
  {
   "cell_type": "code",
   "execution_count": 1,
   "id": "e943830e-0048-4fd4-94d1-dccfab7e3cff",
   "metadata": {},
   "outputs": [],
   "source": [
    "from functools import partial\n",
    "from pathlib import Path\n",
    "import tomllib"
   ]
  },
  {
   "cell_type": "markdown",
   "id": "73a9d252-f543-481e-af76-9e57a196cfd9",
   "metadata": {},
   "source": [
    "Other libraries required for this notebook:"
   ]
  },
  {
   "cell_type": "code",
   "execution_count": 2,
   "id": "cb62186d-14d5-43a0-b1fd-ba37807b0122",
   "metadata": {},
   "outputs": [],
   "source": [
    "from multipac_testbench.src.multipactor_test import MultipactorTest\n",
    "import multipac_testbench.src.instruments as ins"
   ]
  },
  {
   "cell_type": "markdown",
   "id": "0b00c015-1b57-462e-8b7d-fc4e70339157",
   "metadata": {},
   "source": [
    "Define the project path, load the configuration."
   ]
  },
  {
   "cell_type": "code",
   "execution_count": 3,
   "id": "81ac679b-0590-426b-92ba-d02d03570ee2",
   "metadata": {},
   "outputs": [],
   "source": [
    "project = Path(\"../data/test\")\n",
    "config_path = Path(project, \"testbench_configuration.toml\")\n",
    "\n",
    "with open(config_path, \"rb\") as f:\n",
    "    config = tomllib.load(f)"
   ]
  },
  {
   "cell_type": "code",
   "execution_count": 4,
   "id": "7ff799e8-eebe-49e9-bced-90a777724efd",
   "metadata": {},
   "outputs": [],
   "source": [
    "results_path = Path(project, \"120MHz-SWR4.csv\")  # send email placais@lpsc.in2p3.fr to get the file\n",
    "multipactor_test = MultipactorTest(results_path,\n",
    "                                   config,\n",
    "                                   freq_mhz=120.,\n",
    "                                   swr=4.,\n",
    "                                   sep=',')"
   ]
  },
  {
   "cell_type": "code",
   "execution_count": 5,
   "id": "c49b09d2-3b42-487d-847c-587d8387fb15",
   "metadata": {},
   "outputs": [],
   "source": [
    "to_plot = (ins.FieldProbe, ins.Reconstructed)\n",
    "to_exclude = 'NI9205_E1',"
   ]
  },
  {
   "cell_type": "markdown",
   "id": "6f7f51c4-ca84-4459-9043-35a774067285",
   "metadata": {},
   "source": [
    "Perform a fit on the voltages:"
   ]
  },
  {
   "cell_type": "code",
   "execution_count": 6,
   "id": "a52ff1f5-1043-469a-ad51-b34a8f54e26a",
   "metadata": {},
   "outputs": [],
   "source": [
    "multipactor_test.reconstruct_voltage_along_line(\n",
    "    name=\"reconstruct\",\n",
    "    probes_to_ignore=to_exclude,\n",
    ")"
   ]
  },
  {
   "cell_type": "markdown",
   "id": "4f96cc12-6a04-4481-ba0f-dfe12e1dcb7b",
   "metadata": {},
   "source": [
    "The plot currently does not work."
   ]
  },
  {
   "cell_type": "code",
   "execution_count": 7,
   "id": "da0754e2-fc51-4b0c-9140-1ac032806d7a",
   "metadata": {},
   "outputs": [],
   "source": [
    "# multipactor_test.sweet_plot(*to_plot)"
   ]
  }
 ],
 "metadata": {
  "kernelspec": {
   "display_name": "Python 3 (ipykernel)",
   "language": "python",
   "name": "python3"
  },
  "language_info": {
   "codemirror_mode": {
    "name": "ipython",
    "version": 3
   },
   "file_extension": ".py",
   "mimetype": "text/x-python",
   "name": "python",
   "nbconvert_exporter": "python",
   "pygments_lexer": "ipython3",
   "version": "3.11.5"
  }
 },
 "nbformat": 4,
 "nbformat_minor": 5
}
